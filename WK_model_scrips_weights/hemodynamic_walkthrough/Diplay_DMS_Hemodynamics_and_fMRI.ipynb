{
 "cells": [
  {
   "cell_type": "markdown",
   "metadata": {},
   "source": [
    "# This is a file that displays the results of the hemodynamic model"
   ]
  },
  {
   "cell_type": "code",
   "execution_count": null,
   "metadata": {
    "collapsed": true
   },
   "outputs": [],
   "source": [
    "%matplotlib inline\n",
    "import numpy as np\n",
    "import matplotlib.pyplot as plt\n",
    "plt.rcParams.update({'font.size': 30})"
   ]
  },
  {
   "cell_type": "code",
   "execution_count": null,
   "metadata": {
    "collapsed": true
   },
   "outputs": [],
   "source": [
    "# load the data\n",
    "syn_data = np.load('WK_DMS_ISA.npy')\n",
    "flow_data = np.load('regional_laminar_blood_flow_check_7T_drain_DMS.npy')\n",
    "deoxy_data = np.load('regional_laminar_deoxy_check_7T_drain_DMS.npy')\n",
    "volume_data = np.load('regional_laminar_volume_check_7T_drain_DMS.npy')\n",
    "lsnm_BOLD_not_downsampled_file_data = np.load('WK_laminar_LSNM_bold_balloon_7T_drain_DMS_not_downsampled.npy')\n",
    "BOLD_data = np.load('WK_laminar_LSNM_bold_balloon_7T_drain_DMS.npy')"
   ]
  },
  {
   "cell_type": "code",
   "execution_count": null,
   "metadata": {
    "collapsed": true
   },
   "outputs": [],
   "source": [
    "# all the titles we want for graphs\n",
    "syn_titles = [\"V1 Delayed Match to Sample Integrated Synaptic Activity\",\"V4 Delayed Match to Sample Integrated Synaptic Activity\",\n",
    "              \"IT Delayed Match to Sample Integrated Synaptic Activity\",\"FS Delayed Match to Sample Integrated Synaptic Activity\",\n",
    "              \"D1 Delayed Match to Sample Integrated Synaptic Activity\",\"D2 Delayed Match to Sample Integrated Synaptic Activity\",\n",
    "              \"FR Delayed Match to Sample Integrated Synaptic Activity\"]\n",
    "flow_titles = [\"V1 Delayed Match to Sample Blood Flow Activity\",\"V4 Delayed Match to Sample Blood Flow Activity\",\n",
    "               \"IT Delayed Match to Sample Blood Flow Activity\",\"FS Delayed Match to Sample Blood Flow Activity\",\n",
    "               \"D1 Delayed Match to Sample Blood Flow Activity\",\"D2 Delayed Match to Sample Blood Flow Activity\",\n",
    "               \"FR Delayed Match to Sample Blood Flow Activity\"]\n",
    "volume_titles = [\"V1 Delayed Match to Sample Blood Volume\",\"V4 Delayed Match to Sample Blood Volume\",\n",
    "               \"IT Delayed Match to Sample Blood Volume\",\"FS Delayed Match to Sample Blood Volume\",\n",
    "               \"D1 Delayed Match to Sample Blood Volume\",\"D2 Delayed Match to Sample Blood Volume\",\n",
    "               \"FR Delayed Match to Sample Blood Volume\"]\n",
    "deoxy_titles = [\"V1 Delayed Match to Sample Deoxyhemoglobin Concentration\",\"V4 Delayed Match to Sample Deoxyhemoglobin Concentration\",\n",
    "               \"IT Delayed Match to Sample Deoxyhemoglobin Concentration\",\"FS Delayed Match to Sample Deoxyhemoglobin Concentration\",\n",
    "               \"D1 Delayed Match to Sample Deoxyhemoglobin Concentration\",\"D2 Delayed Match to Sample Deoxyhemoglobin Concentration\",\n",
    "               \"FR Delayed Match to Sample Deoxyhemoglobin Concentration\"]\n",
    "bold_titles = [\"V1 Delayed Match to Sample fMRI BOLD Activity\",\"V4 Delayed Match to Sample fMRI BOLD Activity\",\n",
    "              \"IT Delayed Match to Sample fMRI BOLD Activity\",\"FS Delayed Match to Sample fMRI BOLD Activity\",\n",
    "              \"D1 Delayed Match to Sample fMRI BOLD Activity\",\"D2 Delayed Match to Sample fMRI BOLD Activity\",\n",
    "              \"FR Delayed Match to Sample fMRI BOLD Activity\"]"
   ]
  },
  {
   "cell_type": "code",
   "execution_count": null,
   "metadata": {},
   "outputs": [],
   "source": [
    "# this grabs the appropriate \n",
    "t_hi = flow_data[0]\n",
    "t_fmri = BOLD_data[0]\n",
    "num_graphs = int(syn_data.shape[0]/3)\n",
    "# set font size in graphs to 30\n",
    "plt.rcParams.update({'font.size': 30})"
   ]
  },
  {
   "cell_type": "code",
   "execution_count": null,
   "metadata": {},
   "outputs": [],
   "source": [
    "# this shows the integrated synaptic (LFP-like) activity (neural activity related to fMRI) for layers in each region\n",
    "# time steps are 50 ms\n",
    "# layer 2/3 (top) is blue\n",
    "# layer 4 (middle) is red \n",
    "# layer 5/6 (bottom) is green\n",
    "# first hundred time points are ignored while system reaches equilibrium from initial conditions\n",
    "for i in range(num_graphs):\n",
    "    plt.figure(figsize=(32,16))\n",
    "    plt.suptitle(syn_titles[i],fontsize=30)\n",
    "    plt.plot(t_hi[100:],syn_data[3*i,100:], linewidth=3.0, color='blue')\n",
    "    plt.plot(t_hi[100:],syn_data[3*i+1,100:], linewidth=3.0, color='red')\n",
    "    plt.plot(t_hi[100:],syn_data[3*i+2,100:], linewidth=3.0, color='green')\n",
    "    plt.axvspan(18, 20, color='gray')\n",
    "    plt.axvspan(35, 37, color='gray')\n",
    "    plt.axvspan(62, 64, color='gray')\n",
    "    plt.axvspan(79, 81, color='gray')\n",
    "    plt.axvspan(106, 108, color='gray')\n",
    "    plt.axvspan(123, 125, color='gray')\n",
    "    plt.axvspan(150, 152, color='gray')\n",
    "    plt.axvspan(167, 169, color='gray')\n",
    "    plt.gca().set_facecolor('black')\n",
    "    plt.xlabel('Time', rotation='horizontal', horizontalalignment='center',fontsize=30)\n",
    "    plt.yticks(visible=False)\n",
    "    plt.show()"
   ]
  },
  {
   "cell_type": "code",
   "execution_count": null,
   "metadata": {},
   "outputs": [],
   "source": [
    "# this shows the blood flow related in each region for layers in each region\n",
    "# time steps are 50 ms\n",
    "# layer 2/3 (top) is blue\n",
    "# layer 4 (middle) is red \n",
    "# layer 5/6 (bottom) is green\n",
    "# first hundred time points are ignored while system reaches equilibrium from initial conditions\n",
    "for i in range(num_graphs):\n",
    "    plt.figure(figsize=(32,16))\n",
    "    plt.suptitle(flow_titles[i],fontsize=30)\n",
    "    plt.plot(t_hi[100:],flow_data[3*i+1,100:], linewidth=3.0, color='blue')\n",
    "    plt.plot(t_hi[100:],flow_data[3*i+2,100:], linewidth=3.0, color='red')\n",
    "    plt.plot(t_hi[100:],flow_data[3*i+3,100:], linewidth=3.0, color='green')\n",
    "    plt.axvspan(18, 20, color='gray')\n",
    "    plt.axvspan(35, 37, color='gray')\n",
    "    plt.axvspan(62, 64, color='gray')\n",
    "    plt.axvspan(79, 81, color='gray')\n",
    "    plt.axvspan(106, 108, color='gray')\n",
    "    plt.axvspan(123, 125, color='gray')\n",
    "    plt.axvspan(150, 152, color='gray')\n",
    "    plt.axvspan(167, 169, color='gray')\n",
    "    plt.gca().set_facecolor('black')\n",
    "    plt.xlabel('Time', rotation='horizontal', horizontalalignment='center',fontsize=30)\n",
    "    plt.yticks(visible=False)\n",
    "    plt.show()"
   ]
  },
  {
   "cell_type": "code",
   "execution_count": null,
   "metadata": {},
   "outputs": [],
   "source": [
    "# this shows the blood volume for layers in each region\n",
    "# time steps are 50 ms\n",
    "# layer 2/3 (top) is blue\n",
    "# layer 4 (middle) is red \n",
    "# layer 5/6 (bottom) is green\n",
    "# first hundred time points are ignored while system reaches equilibrium from initial conditions\n",
    "for i in range(num_graphs):\n",
    "    plt.figure(figsize=(32,16))\n",
    "    plt.suptitle(volume_titles[i],fontsize=30)\n",
    "    plt.plot(t_hi[100:],volume_data[3*i+1,100:], linewidth=3.0, color='blue')\n",
    "    plt.plot(t_hi[100:],volume_data[3*i+2,100:], linewidth=3.0, color='red')\n",
    "    plt.plot(t_hi[100:],volume_data[3*i+3,100:], linewidth=3.0, color='green')\n",
    "    plt.axvspan(18, 20, color='gray')\n",
    "    plt.axvspan(35, 37, color='gray')\n",
    "    plt.axvspan(62, 64, color='gray')\n",
    "    plt.axvspan(79, 81, color='gray')\n",
    "    plt.axvspan(106, 108, color='gray')\n",
    "    plt.axvspan(123, 125, color='gray')\n",
    "    plt.axvspan(150, 152, color='gray')\n",
    "    plt.axvspan(167, 169, color='gray')\n",
    "    plt.gca().set_facecolor('black')\n",
    "    plt.xlabel('Time', rotation='horizontal', horizontalalignment='center',fontsize=30)\n",
    "    plt.yticks(visible=False)\n",
    "    plt.show()"
   ]
  },
  {
   "cell_type": "code",
   "execution_count": null,
   "metadata": {},
   "outputs": [],
   "source": [
    "# this shows the  deoxyhemoglobin concentration for layers in each region\n",
    "# time steps are 50 ms\n",
    "# layer 2/3 (top) is blue\n",
    "# layer 4 (middle) is red \n",
    "# layer 5/6 (bottom) is green\n",
    "# first hundred time points are ignored while system reaches equilibrium from initial conditions\n",
    "for i in range(num_graphs):\n",
    "    plt.figure(figsize=(32,16))\n",
    "    plt.suptitle(deoxy_titles[i],fontsize=30)\n",
    "    plt.plot(t_hi[100:],deoxy_data[3*i+1,100:], linewidth=3.0, color='blue')\n",
    "    plt.plot(t_hi[100:],deoxy_data[3*i+2,100:], linewidth=3.0, color='red')\n",
    "    plt.plot(t_hi[100:],deoxy_data[3*i+3,100:], linewidth=3.0, color='green')\n",
    "    plt.axvspan(18, 20, color='gray')\n",
    "    plt.axvspan(35, 37, color='gray')\n",
    "    plt.axvspan(62, 64, color='gray')\n",
    "    plt.axvspan(79, 81, color='gray')\n",
    "    plt.axvspan(106, 108, color='gray')\n",
    "    plt.axvspan(123, 125, color='gray')\n",
    "    plt.axvspan(150, 152, color='gray')\n",
    "    plt.axvspan(167, 169, color='gray')\n",
    "    plt.gca().set_facecolor('black')\n",
    "    plt.xlabel('Time', rotation='horizontal', horizontalalignment='center',fontsize=30)\n",
    "    plt.yticks(visible=False)\n",
    "    plt.show()"
   ]
  },
  {
   "cell_type": "code",
   "execution_count": null,
   "metadata": {},
   "outputs": [],
   "source": [
    "# this shows the simulated BOLD signal for layers in each region\n",
    "# note this has NOT been downsampled so this iis what we would see according to the hemodynamic model if\n",
    "# temporal resolution was not an issue\n",
    "# time steps are 50 ms\n",
    "# layer 2/3 (top) is blue\n",
    "# layer 4 (middle) is red \n",
    "# layer 5/6 (bottom) is green\n",
    "# first hundred time points are ignored while system reaches equilibrium from initial conditions\n",
    "for i in range(num_graphs):\n",
    "    plt.figure(figsize=(32,16))\n",
    "    plt.suptitle(bold_titles[i],fontsize=30)\n",
    "    plt.plot(t_hi[100:],lsnm_BOLD_not_downsampled_file_data[3*i+1,100:], linewidth=3.0, color='blue')\n",
    "    plt.plot(t_hi[100:],lsnm_BOLD_not_downsampled_file_data[3*i+2,100:], linewidth=3.0, color='red')\n",
    "    plt.plot(t_hi[100:],lsnm_BOLD_not_downsampled_file_data[3*i+3,100:], linewidth=3.0, color='green')\n",
    "    plt.axvspan(18, 20, color='gray')\n",
    "    plt.axvspan(35, 37, color='gray')\n",
    "    plt.axvspan(62, 64, color='gray')\n",
    "    plt.axvspan(79, 81, color='gray')\n",
    "    plt.axvspan(106, 108, color='gray')\n",
    "    plt.axvspan(123, 125, color='gray')\n",
    "    plt.axvspan(150, 152, color='gray')\n",
    "    plt.axvspan(167, 169, color='gray')\n",
    "    plt.gca().set_facecolor('black')\n",
    "    plt.xlabel('Time', rotation='horizontal', horizontalalignment='center',fontsize=30)\n",
    "    plt.yticks(visible=False)\n",
    "    plt.show()"
   ]
  },
  {
   "cell_type": "code",
   "execution_count": null,
   "metadata": {},
   "outputs": [],
   "source": [
    "# this shows the simulated BOLD signal for layers in each region\n",
    "# note this has data HAS been downsampled so is we would expect to see according to the hemodynamic model\n",
    "# Note differences with previous models\n",
    "# time steps are 50 ms\n",
    "# layer 2/3 (top) is blue\n",
    "# layer 4 (middle) is red \n",
    "# layer 5/6 (bottom) is green\n",
    "# first hundred time points are ignored while system reaches equilibrium from initial conditions\n",
    "for i in range(num_graphs):\n",
    "    plt.figure(figsize=(32,16))\n",
    "    plt.suptitle(bold_titles[i],fontsize=30)\n",
    "    plt.plot(t_fmri,BOLD_data[3*i+1], linewidth=3.0, color='blue')\n",
    "    plt.plot(t_fmri,BOLD_data[3*i+2], linewidth=3.0, color='red')\n",
    "    plt.plot(t_fmri,BOLD_data[3*i+3], linewidth=3.0, color='green')\n",
    "    plt.axvspan(18, 20, color='gray')\n",
    "    plt.axvspan(35, 37, color='gray')\n",
    "    plt.axvspan(62, 64, color='gray')\n",
    "    plt.axvspan(79, 81, color='gray')\n",
    "    plt.axvspan(106, 108, color='gray')\n",
    "    plt.axvspan(123, 125, color='gray')\n",
    "    plt.axvspan(150, 152, color='gray')\n",
    "    plt.axvspan(167, 169, color='gray')\n",
    "    plt.gca().set_facecolor('black')\n",
    "    plt.xlabel('Time', rotation='horizontal', horizontalalignment='center',fontsize=30)\n",
    "    plt.yticks(visible=False)\n",
    "    plt.show()"
   ]
  },
  {
   "cell_type": "code",
   "execution_count": null,
   "metadata": {
    "collapsed": true
   },
   "outputs": [],
   "source": [
    "# to inspect images at higher resolution click on the image and \"Open image in new tab\""
   ]
  }
 ],
 "metadata": {
  "kernelspec": {
   "display_name": "Python 3",
   "language": "python",
   "name": "python3"
  },
  "language_info": {
   "codemirror_mode": {
    "name": "ipython",
    "version": 3
   },
   "file_extension": ".py",
   "mimetype": "text/x-python",
   "name": "python",
   "nbconvert_exporter": "python",
   "pygments_lexer": "ipython3",
   "version": "3.6.1"
  }
 },
 "nbformat": 4,
 "nbformat_minor": 2
}
